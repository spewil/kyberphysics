{
 "cells": [
  {
   "cell_type": "code",
   "execution_count": 1,
   "source": [
    "import matplotlib.pyplot as plt\n",
    "import numpy as np\n",
    "import matplotlib\n",
    "%matplotlib inline\n",
    "\n",
    "import os\n",
    "import sys\n",
    "from pathlib import Path\n",
    "from pprint import pprint\n",
    "import pickle\n",
    "from scipy.optimize import curve_fit\n",
    "\n",
    "from utils import analysis, utils, files # sibling package..."
   ],
   "outputs": [],
   "metadata": {}
  },
  {
   "cell_type": "markdown",
   "source": [
    "- Subject\n",
    "- Task\n",
    "  - Session -- three of these\n",
    "    - 1,2,3\n",
    "  - Block -- there should be 15 of these per session\n",
    "    - session\n",
    "  - Trial -- there should be 12 of these per block\n",
    "    - session num\n",
    "    - block num\n",
    "    - subject \n",
    "    - outcome (hit, miss, nohold)\n",
    "    - emg (64xS)\n",
    "    - counter (1xS)\n",
    "    - behavior (2xF)\n",
    "    - target x,y idx\n",
    "    - time to outcome\n",
    "    - num_holds?\n",
    "        \n",
    "- grab this data and build behavior matrix\n",
    "  - x,y,xdot,ydot,xdotdot,ydotdot, trial, target x TxN"
   ],
   "metadata": {}
  },
  {
   "cell_type": "markdown",
   "source": [
    "for each task\n",
    "\n",
    "get every trial\n",
    "note its session\n",
    "for data, just store the data's path\n",
    "\n",
    "for subject\n",
    "for center hold\n",
    "get every trial\n"
   ],
   "metadata": {}
  },
  {
   "cell_type": "code",
   "execution_count": 47,
   "source": [
    "experiment = \"emg_olympics\"\n",
    "subject = \"alba\"\n",
    "task = \"center_hold\"\n",
    "session = 0\n",
    "block = 0\n",
    "trial = 0"
   ],
   "outputs": [
    {
     "output_type": "stream",
     "name": "stdout",
     "text": [
      "data folder:  /Users/spencerw/Dropbox (UCL)/Murray Lab/Spencer/emg_olympics\n",
      "0\n",
      "/Users/spencerw/Dropbox (UCL)/Murray Lab/Spencer/emg_olympics/alba/center_hold/session_0/0_emg_2021-09-21T13_23_18.bin\n"
     ]
    }
   ],
   "metadata": {}
  },
  {
   "cell_type": "code",
   "execution_count": null,
   "source": [
    "\n",
    "def get_task_paths(subject_folder):\n",
    "    task_paths = {}\n",
    "    for x in subject_folder.iterdir(): \n",
    "        if x.name[0] != \".\":\n",
    "            task_paths[x.name] = x\n",
    "    return task_paths\n",
    "\n",
    "def get_outcome_path(block_path):\n",
    "    return [x for x in block_path.iterdir() if \"result\" in x.name][0]\n",
    "\n",
    "class Trial():\n",
    "    def __init__(self):\n",
    "        self.target_coordinate = None\n",
    "        self.outcome = None\n",
    "        self.hold_time = None\n",
    "        self.reach_time = None\n",
    "        \n",
    "        self.idx = None\n",
    "        self.target_idx = None\n",
    "        self.session = None\n",
    "        self.behavior_path = None # self.get_behavior_path()\n",
    "        self.emg_path = None # self.get_signal_path()\n",
    "        \n",
    "    def parse_outcome(self, outcome):\n",
    "        self.target_coordinate = outcome[\"target\"]\n",
    "        \n",
    "        self.outcome = outcome[\"outcome\"]\n",
    "        self.hold_time = outcome[\"hold_time\"]\n",
    "        self.reach_time = outcome[\"reach_time\"]\n",
    "\n",
    "    def parse_target(self, coord):\n",
    "        for idx, t in enumerate(self.targets):\n",
    "            if sum(abs(coord - t)) < 0.001:\n",
    "                return idx\n",
    "\n",
    "class Block():\n",
    "    def __init__(self,path):\n",
    "        self.path = path\n",
    "        self.outcomes = self.get_outcomes()\n",
    "        self.trials = self.add_trials()\n",
    "        self.idx = int(path.name.split(\"_\")[-1])\n",
    "        print(self.idx)\n",
    "        self.add_paths_to_trials()\n",
    "        \n",
    "    def get_outcomes(self):\n",
    "        outcome_path = get_outcome_path(self.path)\n",
    "        # get something we can index\n",
    "        #  outcome, HT, RT, tX, tY\n",
    "        behavior = np.genfromtxt(str(outcome_path), delimiter=',', skip_header=1, dtype=None, encoding=None)\n",
    "        outcome_dict = {}\n",
    "        for i, x in enumerate(behavior):\n",
    "            outcome_dict[str(i)] = {}\n",
    "            outcome_dict[str(i)][\"outcome\"] = x[0]\n",
    "            outcome_dict[str(i)][\"target\"] = [x[-2],x[-1]]\n",
    "            outcome_dict[str(i)][\"hold_time\"] = x[1]\n",
    "            if x[0] == \"Hit\":\n",
    "                outcome_dict[str(i)][\"reach_time\"] = x[2]\n",
    "            else:\n",
    "                outcome_dict[str(i)][\"reach_time\"] = None\n",
    "        return outcome_dict\n",
    "        \n",
    "    def add_trials(self):\n",
    "        trials = []\n",
    "        for _, outcome in self.outcomes.items(): # trial_path, trial_outcome in b.outcomes:\n",
    "            trial = Trial()\n",
    "            trial.parse_outcome(outcome)\n",
    "            trials.append(trial)\n",
    "        return trials\n",
    "\n",
    "    def add_paths_to_trials(self):\n",
    "        emg_paths = sorted([x for x in self.path.iterdir() if \"emg\" in x.name and \"filtered\" not in x.name and x.suffix == \".bin\"], key=files.parse_filename_prefix)\n",
    "        filtered_paths = sorted([x for x in self.path.iterdir() if \"emg\" in x.name and \"filtered\" in x.name and x.suffix == \".bin\"], key=files.parse_filename_prefix)\n",
    "        behavior_paths = sorted([x for x in self.path.iterdir() if \"behavior\" in x.name and x.suffix == \".csv\"], key=files.parse_filename_prefix)\n",
    "        assert len(emg_paths) == len(self.trials), \"mismatch between number of trials and number of paths\"\n",
    "        assert len(filtered_paths) == len(self.trials), \"mismatch between number of trials and number of paths\"\n",
    "        assert len(behavior_paths) == len(self.trials), \"mismatch between number of trials and number of paths\"\n",
    "        for emg_path, filtered_path, behavior_path, trial in zip(emg_paths, filtered_paths, behavior_paths, self.trials):\n",
    "            trial.emg_path = emg_path\n",
    "            trial.filtered_path = filtered_path\n",
    "            trial.behavior_path = behavior_path"
   ],
   "outputs": [],
   "metadata": {}
  },
  {
   "cell_type": "code",
   "execution_count": 66,
   "source": [
    "\n",
    "subject_metadata_folder = utils.get_subject_folder(experiment,subject)\n",
    "experiment_data_folder = utils.get_experiment_data_folder(experiment)\n",
    "subject_data_folder = experiment_data_folder / subject\n",
    "\n",
    "sorted_block_paths = sorted([x for x in (subject_data_folder / task).iterdir() if x.name[0] != \".\" and \"session\" in x.name], key=lambda x: int(x.name.split(\"_\")[-1]))\n",
    "block_path = sorted_block_paths[block+2]\n",
    "\n",
    "b = Block(block_path)"
   ],
   "outputs": [
    {
     "output_type": "stream",
     "name": "stdout",
     "text": [
      "data folder:  /Users/spencerw/Dropbox (UCL)/Murray Lab/Spencer/emg_olympics\n",
      "2\n"
     ]
    }
   ],
   "metadata": {}
  },
  {
   "cell_type": "code",
   "execution_count": 77,
   "source": [
    "np.bincount()"
   ],
   "outputs": [
    {
     "output_type": "stream",
     "name": "stdout",
     "text": [
      "3\n"
     ]
    }
   ],
   "metadata": {}
  },
  {
   "cell_type": "code",
   "execution_count": 67,
   "source": [
    "\n",
    "print(b.trials[0].emg_path)\n",
    "print(b.trials[0].behavior_path)\n",
    "\n",
    "\n",
    "def load_behavior(path):\n",
    "    return np.genfromtxt(path, delimiter=',', skip_header=1, dtype=float, encoding=None)\n",
    "\n",
    "fig, axes = plt.subplots(2,1)\n",
    "for ax in axes:\n",
    "    ax.set_xlim([-3,3])\n",
    "    ax.set_ylim([-3,3])\n",
    "for i in range(len(b.trials)):\n",
    "    t = b.trials[i]\n",
    "    behavior = load_behavior(t.behavior_path)\n",
    "    if t.outcome == \"No Hold\":\n",
    "        axes[0].plot(behavior[:,-2],behavior[:,-1])\n",
    "    else:\n",
    "        axes[1].plot(behavior[:,-2],behavior[:,-1])\n",
    "# print(utils.load_center_hold_emg(block_path))\n",
    "# sorted_emg_paths = sorted([x for x in block_path.iterdir() if x.name[0] != \".\" and \"session\" in x.name], key=lambda x: int(x.name.split(\"_\")[-1]))"
   ],
   "outputs": [
    {
     "output_type": "stream",
     "name": "stdout",
     "text": [
      "/Users/spencerw/Dropbox (UCL)/Murray Lab/Spencer/emg_olympics/alba/center_hold/session_2/0_emg_2021-09-21T13_26_42.bin\n",
      "/Users/spencerw/Dropbox (UCL)/Murray Lab/Spencer/emg_olympics/alba/center_hold/session_2/0_behavior_2021-09-21T13_26_42.csv\n"
     ]
    },
    {
     "output_type": "display_data",
     "data": {
      "image/png": "[encoded data removed]",
      "text/plain": [
       "<Figure size 432x288 with 2 Axes>"
      ]
     },
     "metadata": {
      "needs_background": "light"
     }
    }
   ],
   "metadata": {}
  },
  {
   "cell_type": "markdown",
   "source": [
    "# behavior"
   ],
   "metadata": {}
  },
  {
   "cell_type": "code",
   "execution_count": 5,
   "source": [
    "# behavior = []\n",
    "# for session_path in get_session_path_list(\"bob\"):\n",
    "#     session_behavior = {}\n",
    "#     trial_paths = [trial_path for trial_path in session_path.iterdir() if \"behavior\" in trial_path.name]\n",
    "#     for trial in trial_paths:\n",
    "#         session_no, target_ \n",
    "#         behavior_array = np.genfromtxt(str(trial), delimiter=',', skip_header=1, dtype=np.float, encoding=None)\n",
    "        \n",
    "#         session_behavior[] = behavior_array\n",
    "\n",
    "#     behavior.append(session_behavior)\n",
    "\n",
    "class Subject():\n",
    "    def __init__(self):\n",
    "        self.sessions = []\n",
    "\n",
    "class Session():\n",
    "    def __init__(self):\n",
    "        self.trials = []\n",
    "        self.number = None\n",
    "\n",
    "\n",
    "\n",
    "\n"
   ],
   "outputs": [],
   "metadata": {}
  }
 ],
 "metadata": {
  "kernelspec": {
   "name": "python3",
   "display_name": "Python 3.8.2 64-bit (conda)"
  },
  "language_info": {
   "codemirror_mode": {
    "name": "ipython",
    "version": 3
   },
   "file_extension": ".py",
   "mimetype": "text/x-python",
   "name": "python",
   "nbconvert_exporter": "python",
   "pygments_lexer": "ipython3",
   "version": "3.8.2"
  },
  "interpreter": {
   "hash": "b28d78d38e850d7131f7191a80854a5c544ea6475332c868170c93e730500bcf"
  }
 },
 "nbformat": 4,
 "nbformat_minor": 2
}