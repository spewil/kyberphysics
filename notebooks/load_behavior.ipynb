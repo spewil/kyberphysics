{
 "cells": [
  {
   "cell_type": "code",
   "execution_count": 1,
   "source": [
    "import matplotlib.pyplot as plt\n",
    "import numpy as np\n",
    "import matplotlib\n",
    "%matplotlib inline\n",
    "\n",
    "import os\n",
    "import sys\n",
    "from pathlib import Path\n",
    "from pprint import pprint\n",
    "import pickle\n",
    "from scipy.optimize import curve_fit\n",
    "\n",
    "from utils import analysis, utils, files # sibling package..."
   ],
   "outputs": [],
   "metadata": {}
  },
  {
   "cell_type": "markdown",
   "source": [
    "# load data"
   ],
   "metadata": {}
  },
  {
   "cell_type": "code",
   "execution_count": null,
   "source": [
    "experiment = \"emg_olympics\"\n",
    "subject = \"bob\"\n",
    "\n",
    "movement_session = \"1\"\n",
    "calibration_session = \"0\"\n",
    "center_hold_session = \"0\" # check manually for a folder, default to the first one\n",
    "\n",
    "subject_metadata_folder = utils.get_subject_folder(experiment=experiment, subject=subject)\n",
    "assert subject_metadata_folder.exists()\n",
    "print(\"subject metadata: \", subject_metadata_folder)"
   ],
   "outputs": [],
   "metadata": {}
  },
  {
   "cell_type": "markdown",
   "source": [
    "# behavior"
   ],
   "metadata": {}
  },
  {
   "cell_type": "code",
   "execution_count": null,
   "source": [
    "# yaml to dict?\n",
    "\n",
    "Subject\n",
    "    Task\n",
    "    Session\n",
    "        1,2,3\n",
    "    Block\n",
    "        session\n",
    "    Trial\n",
    "        session\n",
    "        block\n",
    "        subject\n",
    "        emg (64xS)\n",
    "        counter (1xS)\n",
    "        behavior (2xF)\n",
    "        outcome\n",
    "        time to outcome\n",
    "        num_holds\n",
    "        \n",
    "        "
   ],
   "outputs": [],
   "metadata": {}
  },
  {
   "cell_type": "code",
   "execution_count": null,
   "source": [
    "# behavior = []\n",
    "# for session_path in get_session_path_list(\"bob\"):\n",
    "#     session_behavior = {}\n",
    "#     trial_paths = [trial_path for trial_path in session_path.iterdir() if \"behavior\" in trial_path.name]\n",
    "#     for trial in trial_paths:\n",
    "#         session_no, target_ \n",
    "#         behavior_array = np.genfromtxt(str(trial), delimiter=',', skip_header=1, dtype=np.float, encoding=None)\n",
    "        \n",
    "#         session_behavior[] = behavior_array\n",
    "\n",
    "#     behavior.append(session_behavior)\n",
    "\n",
    "class Subject():\n",
    "    def __init__(self):\n",
    "        self.sessions = []\n",
    "\n",
    "class Session():\n",
    "    def __init__(self):\n",
    "        self.trials = []\n",
    "        self.number = None\n",
    "\n",
    "class Block():\n",
    "    def __init__(self):\n",
    "        self.trials = []\n",
    "        self.number = None\n",
    "\n",
    "class Trial():\n",
    "    def __init__(self):\n",
    "        self.session = \n",
    "        self.outcome\n",
    "        self.time = \n",
    "        self.target = \n",
    "        self.behavior = self.get_behavior()\n",
    "        self.signal = self.get_signal()\n",
    "\n",
    "def get_session_paths(experiment, subject):\n",
    "    pass\n",
    "\n",
    "def get_session(session_number):\n",
    "    pass\n",
    "\n",
    "def get_trial_paths(session):\n",
    "\n",
    "def get_trial_outcome(trial)\n",
    "\n",
    "def build_behavior_dict(subject):\n",
    "    session_path_list = get_session_path_list(subject)\n",
    "    num_sessions = len(session_path_list)\n",
    "\n",
    "    session_dict = {}\n",
    "\n",
    "\n",
    "    hits = []\n",
    "    misses = []\n",
    "    noholds = []\n",
    "    reach_times = []\n",
    "    for behavior_path in session_path_list:\n",
    "        print(behavior_path)\n",
    "        outcome_path = [x for x in behavior_path.iterdir() if \"result\" in x.name][0]\n",
    "        behavior = np.genfromtxt(str(outcome_path), delimiter=',', skip_header=1, dtype=None, encoding=None)\n",
    "        outcomes = [x[0] for x in behavior]\n",
    "        for x in behavior:\n",
    "            if x[0] == \"Hit\":\n",
    "                reach_times.append(x[2])\n",
    "        uniques, counts = np.unique(outcomes, return_counts=True)\n",
    "        for outcome, count in zip(uniques, counts):\n",
    "            if outcome == \"Hit\":\n",
    "                hits.append(count)\n",
    "            elif outcome == \"Miss\":\n",
    "                misses.append(count)\n",
    "            elif outcome == \"No Hold\":\n",
    "                noholds.append(count)\n",
    "            else:\n",
    "                raise ValueError(\"Unforeseen outcome in behavior: \", outcome)\n",
    "        if \"Hit\" not in outcomes:\n",
    "            hits.append(0)\n",
    "        if \"Miss\" not in outcomes:\n",
    "            misses.append(0)\n",
    "        if \"No Hold\" not in outcomes:\n",
    "            noholds.append(0)\n",
    "    return hits, misses, noholds, num_sessions\n",
    "\n",
    "build_behavior_dict(\"bob\")"
   ],
   "outputs": [],
   "metadata": {}
  }
 ],
 "metadata": {
  "kernelspec": {
   "name": "python3",
   "display_name": "Python 3.8.2 64-bit (conda)"
  },
  "language_info": {
   "codemirror_mode": {
    "name": "ipython",
    "version": 3
   },
   "file_extension": ".py",
   "mimetype": "text/x-python",
   "name": "python",
   "nbconvert_exporter": "python",
   "pygments_lexer": "ipython3",
   "version": "3.8.2"
  },
  "interpreter": {
   "hash": "b28d78d38e850d7131f7191a80854a5c544ea6475332c868170c93e730500bcf"
  }
 },
 "nbformat": 4,
 "nbformat_minor": 2
}